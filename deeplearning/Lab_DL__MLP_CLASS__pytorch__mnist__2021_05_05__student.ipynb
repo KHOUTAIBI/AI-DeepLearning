{
  "cells": [
    {
      "cell_type": "markdown",
      "metadata": {
        "id": "WpYK9fIlyZCq"
      },
      "source": [
        "# Lab Deep Learning / Multi-Layer Perceptron for classification / in pytorch\n",
        "\n",
        "**Author: geoffroy.peeters@telecom-paris.fr**\n",
        "\n",
        "For any remark or suggestion, please feel free to contact me.\n",
        "\n",
        "Last edit: 2020/04/27 peeters\n",
        "\n",
        "Read the \"introduction to pytorch\" slides first: https://perso.telecom-paristech.fr/gpeeters/doc/pytorch/\n",
        "\n",
        "**Is is recommended that you first perform the ```Lab Deep Learning / Multi-Layer Perceptron for regression / in pytorch``` Lab to understand how to write a Neural Network in pytorch.**\n",
        "\n",
        "\n",
        "## Objective:\n",
        "\n",
        "The objective of this lab is to develop a two hidden layers MLP to perform image **classification**.\n",
        "\n",
        "While the previous Lab ```Lab Deep Learning / Multi-Layer Perceptron for regression / in pytorch``` focused on how to write a Neural Network, the present Lab focuses on managing datasets and splitting training and testing .\n",
        "\n",
        "We will use MNIST for the image dataset.\n",
        "\n",
        "## Your task:\n",
        "\n",
        "You need to add the missing parts in the code (parts between ```# --- START CODE HERE``` and ```# --- END CODE HERE```)\n",
        "\n",
        "## Documentation:\n",
        "- NN: https://pytorch.org/docs/stable/nn.html\n",
        "- Autograd: https://pytorch.org/docs/stable/autograd.html\n",
        "- Optim: https://pytorch.org/docs/stable/optim.html\n"
      ]
    },
    {
      "cell_type": "code",
      "execution_count": 125,
      "metadata": {
        "id": "h6o3NZfNyZCt"
      },
      "outputs": [],
      "source": [
        "import torch\n",
        "import torch.nn as nn\n",
        "import torch.nn.functional as F\n",
        "import torch.optim as optim\n",
        "from torchvision import datasets, transforms\n",
        "import matplotlib.pyplot as plt"
      ]
    },
    {
      "cell_type": "markdown",
      "metadata": {
        "id": "Vy7u-IVkyZCu"
      },
      "source": [
        "## Data management\n",
        "\n",
        "It is common to separate the datasets into\n",
        "- a **training** part (used to find the network parameters which minimize the loss)\n",
        "- a **test part** (used to estimate the performances).\n",
        "\n",
        "The training part can itself be further splitted into a training and a validation part (the validation part is then used to fix the hyper-parameters of the system).\n",
        "\n",
        "When performing ```batch gradient descent``` the whole training set is used to compute the gradients (which itself is used for the parameter optimization).\n",
        "However when performing ```stochastic or mini-batch gradient descent``` only a part of the training data is used at each iteration.\n",
        "\n",
        "We therefore needs to write all the necessary code, to get these mini-batches of data, be sure that all data have been seen, potentially randomize the order of appearance of these data and potentially perform some modifications of the data before giving them to the network.\n",
        "\n",
        "Fortunatelly, pytorch has associated to it (but not included in it) a nice package (```torchvision```) which allows to do all that for us.\n",
        "\n",
        "This package allows to perform these process for any datasets but has a pre-tuned method for the ```MNIST```datasets.\n",
        "\n",
        "### Datasets\n",
        "\n",
        "In the following we will us ```datasets.MNIST``` to load the train and test data.\n",
        "\n",
        "We need to tell it to download the data, where to dowload them and if we want the training or the testing part of it.\n",
        "\n",
        "We then tell it if we want to apply some transformations to the data.\n",
        "\n",
        "For this lab, we will transform the data by\n",
        "- 1) transforming them to torch tensors (using ```transforms.ToTensor()```); since by default they are not torch tensors\n",
        "- 2) normalize them to zero mean and unit standard deviation (using ```transforms.Normalize()```).\n",
        "\n",
        "It is of course possible to also apply data augmentation.\n",
        "\n",
        "Since we have several transforms to be performed, we will compose them using ```transforms.Compose([transform1, transform2])```\n",
        "\n",
        "The corresponding datasets is a class which contains the pairs of [input tensors $X$, corresponding ground-truth label $y$].\n",
        "\n",
        "### Dataloader\n",
        "\n",
        "Another nice pytorch facility is the ```Dataloader``` which transforms the dataset to be used as an iterator (i.e. within ```for data in myDataloader: ```).\n",
        "\n",
        "Moreover, ```Dataloader``` allows to specify\n",
        "- how many data will be provided each time it is called (```batch_size```)\n",
        "- if the order of appearance of the data with be random (````shuffle````).\n",
        "\n",
        "We therefore convert our datasets (train and test) to ```DataLoader``` that are directly used as iterator during the iterations (it DataLoader manage directly the mini-batch and shuffling)."
      ]
    },
    {
      "cell_type": "code",
      "execution_count": null,
      "metadata": {
        "id": "zsSEvakPyZCv"
      },
      "outputs": [],
      "source": [
        "# --- START CODE HERE (01)\n",
        "\n",
        "BATCH_SIZE = 16\n",
        "\n",
        "transform = transforms.Compose([transforms.ToTensor(),transforms.Normalize(mean=(0,), std=(1,))])\n",
        "\n",
        "train_set = datasets.MNIST(root='./', transform=transform, train=True, download=True)\n",
        "train_loader = torch.utils.data.DataLoader(train_set, shuffle=True, batch_size=BATCH_SIZE)\n",
        "test_set = datasets.MNIST(root='./', transform=transform, train=False, download=True)\n",
        "test_loader = torch.utils.data.DataLoader(test_set, shuffle=False, batch_size=BATCH_SIZE)\n",
        "\n",
        "# --- END CODE HERE"
      ]
    },
    {
      "cell_type": "code",
      "execution_count": 127,
      "metadata": {
        "colab": {
          "base_uri": "https://localhost:8080/",
          "height": 240
        },
        "id": "FFuEXr0tyZCw",
        "outputId": "59ad5329-e7b3-4dd3-f0f7-79bbbcfde7f7"
      },
      "outputs": [
        {
          "name": "stdout",
          "output_type": "stream",
          "text": [
            "dataset type: <class 'torchvision.datasets.mnist.MNIST'>\n",
            "dataset size: 60000\n",
            "X data: torch.Size([1, 28, 28])\n",
            "y data: 5\n"
          ]
        }
      ],
      "source": [
        "print(\"dataset type: {}\".format(type(train_set)))\n",
        "print(\"dataset size: {}\".format(len(train_set)))\n",
        "print(\"X data: {}\".format(train_set[0][0].size()))\n",
        "print(\"y data: {}\".format(train_set[0][1]))"
      ]
    },
    {
      "cell_type": "markdown",
      "metadata": {
        "id": "piAf25dxyZCx"
      },
      "source": [
        "### Display the first 5 data of MNIST dataset."
      ]
    },
    {
      "cell_type": "code",
      "execution_count": 128,
      "metadata": {
        "id": "Jsa2MAEhyZCx"
      },
      "outputs": [
        {
          "data": {
            "image/png": "[encoded data removed]",
            "text/plain": [
              "<Figure size 640x480 with 5 Axes>"
            ]
          },
          "metadata": {},
          "output_type": "display_data"
        }
      ],
      "source": [
        "# ------------------------------------\n",
        "for num in range(0,5):\n",
        "    one_data = next(iter(train_loader))\n",
        "    plt.subplot(1,5,num+1)\n",
        "    plt.imshow(one_data[0][0][0,:,:], cmap=\"grey\")\n",
        "    plt.title(one_data[1][0].item())"
      ]
    },
    {
      "cell_type": "markdown",
      "metadata": {
        "id": "bo6-KX8UyZCy"
      },
      "source": [
        "## Network setting\n",
        "\n",
        "While image classification, is usually performed using Convolutional Neural Networks, we will use here a Multi-Layer-Perceptron (also named ```fully-connected```).\n",
        "For this, we will flatten (i.e. convert the iamge 2D matrix to a 1D vector) the input images.\n",
        "\n",
        "- The input images are of size 28*28 and are converted to vectors of size ```n_in```=784.\n",
        "\n",
        "- The two hidden layers have````n_h1````=500 and ```n_h2```=256 unit/neurons each and ```Relu```activations.\n",
        "\n",
        "- The output are the ```n_out```=10 classes (the 10 digits to be recognized).\n",
        "\n",
        "Since we deal with a muti-class problem (10 classes), the output activations is therefore a ```softmax```.\n",
        "\n",
        "Note that since the ```softmax```output will be given to a ```cross-entropy```, the ```log```et the latter can be directly added to the ```softmax```. This leads to the pytorch function ```F.log_softmax```.\n"
      ]
    },
    {
      "cell_type": "code",
      "execution_count": 129,
      "metadata": {
        "id": "H0uIIQb9yZCy"
      },
      "outputs": [],
      "source": [
        "class Net(nn.Module):\n",
        "    def __init__(self):\n",
        "        n_in = 28*28\n",
        "        n_h1 = 500\n",
        "        n_h2 = 256\n",
        "        n_out = 10\n",
        "        super(Net, self).__init__()\n",
        "        # --- START CODE HERE  (02)\n",
        "\n",
        "        self.input = nn.Linear(n_in, n_h1, device=\"cuda\")\n",
        "        self.activation = nn.ReLU()\n",
        "        self.hidden1 = nn.Linear(n_h1, n_h2, device=\"cuda\")\n",
        "        self.output = nn.Linear(n_h2, n_out, device=\"cuda\")\n",
        "\n",
        "        # --- END CODE HERE\n",
        "    def forward(self, x):\n",
        "        # --- START CODE HERE  (03)\n",
        "        \n",
        "        x = x.to(\"cuda\")\n",
        "        x = x.flatten(start_dim = 1)\n",
        "        \n",
        "        x = self.input(x)\n",
        "        x = self.activation(x)\n",
        "        x = self.hidden1(x)\n",
        "        x = self.activation(x)\n",
        "        x = self.output(x)\n",
        "        \n",
        "        # --- END CODE HERE\n",
        "        return F.log_softmax(x, dim=1)"
      ]
    },
    {
      "cell_type": "markdown",
      "metadata": {
        "id": "x7qcgKFwyZCz"
      },
      "source": [
        "## Defining the train and test functions\n",
        "\n",
        "In the present lab, we distinguish between train and test data.\n",
        "We therefore write\n",
        "- a train function (to learn the network parameters on the train data),\n",
        "- a test function (to evaluate the network's performances on the test data).\n",
        "\n",
        "The ```train``` and ```test```function will perform the computation for a given ```epoch```.\n",
        "The functions therefore only need to ```loop over``` the mini-batches.\n",
        "This is now easy since we defined our ```Dataloader```for train and test.\n",
        "\n",
        "For the train function, for each mini-batch, we  \n",
        "- compute the forward pass by passing the data to the model: haty = model(x)\n",
        "- compute the the loss (the criterion)\n",
        "- putting at zero the gradients of all the parameters of the network (this is important since, by default, pytorch accumulate the gradients over time)\n",
        "- computing the backpropagation (using as before .backward())\n",
        "- performing one step of optimization (using .step())\n",
        "\n",
        "For the train function, we set the model to train mode (```model.train()```). This allows to set some specific behaviours for training (such as activate the dropout).\n",
        "\n",
        "For the test function, we set the model to train mode (```model.eval()```). This allows to set some specific behaviours for training (such as removing the dropout).\n",
        "\n",
        "\n",
        "Since we are dealing with a multi-class problem (10 classes), we will minimize as loss the ```cross-entropy``` (named negative-log-likelihood ```nll_loss```in pytorch).\n",
        "Since ```nll_loss```does not contains the ```log``` we have added it directly to the softmax by using the ```log_softmax```as output activation of our network.\n",
        "\n",
        "Note that we could use the loss from the nn package (```torch.nn.NLLLoss```) it is then a class which needs to be first instanciated.\n",
        "We can also use the same but as a function (```F.nll_loss()```) which can be used directly without instanciating the class."
      ]
    },
    {
      "cell_type": "code",
      "execution_count": 130,
      "metadata": {
        "id": "3dGuPt96yZCz"
      },
      "outputs": [],
      "source": [
        "def train(model, train_loader, optimizer, epoch):\n",
        "    \n",
        "    model.train()\n",
        "    \n",
        "    for batch_idx, (data, target) in enumerate(train_loader):\n",
        "        # --- START CODE HERE  (04)\n",
        "\n",
        "        data , target = data.to(\"cuda\"), target.to(\"cuda\")\n",
        "\n",
        "        haty = model(data)\n",
        "        loss = F.nll_loss(haty, target)\n",
        "\n",
        "        optimizer.zero_grad()\n",
        "        loss.backward()\n",
        "        optimizer.step()\n",
        "        \n",
        "        # --- END CODE HERE\n",
        "\n",
        "        if batch_idx % 100 == 0:\n",
        "            print('epoch {}, loss {}'.format(epoch, loss.item()))"
      ]
    },
    {
      "cell_type": "code",
      "execution_count": 131,
      "metadata": {
        "id": "zI8QtzV2yZC0"
      },
      "outputs": [],
      "source": [
        "def test(model, test_loader):\n",
        "    \n",
        "    model.eval()\n",
        "    test_loss = 0\n",
        "    correct = 0\n",
        "    \n",
        "    with torch.no_grad():\n",
        "        \n",
        "        for data, target in test_loader:\n",
        "            # --- START CODE HERE  (05)\n",
        "            \n",
        "            data, target = data.to(\"cuda\"), target.to(\"cuda\")\n",
        "\n",
        "            predict = model(data)\n",
        "\n",
        "            loss = F.nll_loss(predict, target)\n",
        "            test_loss += loss\n",
        "\n",
        "            predict = predict.argmax(dim = 1)\n",
        "\n",
        "            correct += predict.eq(target).sum().item()\n",
        "            # --- STOP CODE HERE\n",
        "\n",
        "    test_loss /= len(test_loader.dataset)\n",
        "    correct /= len(test_loader.dataset)\n",
        "    print('\\nTest set: Average loss: {}, Accuracy: {}\\n'.format(test_loss, correct))"
      ]
    },
    {
      "cell_type": "markdown",
      "metadata": {
        "id": "9MXQIbcJyZC0"
      },
      "source": [
        "## Looping over epochs\n",
        "\n",
        "\n",
        "We finally define, how we will optimize our parameters by defining an optimizer.\n",
        "We will use here a very simple one: the SGD (```optim.SGD```) with a learning rate of 0.01.\n",
        "\n",
        "At each iteration, we then call the train and the test function."
      ]
    },
    {
      "cell_type": "code",
      "execution_count": null,
      "metadata": {
        "id": "ofYcX05ZyZC0"
      },
      "outputs": [
        {
          "name": "stdout",
          "output_type": "stream",
          "text": [
            "epoch 1, loss 2.302062749862671\n",
            "epoch 1, loss 0.8921835422515869\n",
            "epoch 1, loss 0.606651246547699\n",
            "epoch 1, loss 0.580753743648529\n",
            "epoch 1, loss 0.22824762761592865\n",
            "epoch 1, loss 0.3399476706981659\n",
            "epoch 1, loss 0.09243711829185486\n",
            "epoch 1, loss 0.4401169419288635\n",
            "epoch 1, loss 0.07679969817399979\n",
            "epoch 1, loss 0.31490495800971985\n",
            "epoch 1, loss 0.2610272467136383\n",
            "epoch 1, loss 0.5859898328781128\n",
            "epoch 1, loss 0.06749098747968674\n",
            "epoch 1, loss 0.0979093462228775\n",
            "epoch 1, loss 0.5953674912452698\n",
            "epoch 1, loss 0.33724188804626465\n",
            "epoch 1, loss 0.49956613779067993\n",
            "epoch 1, loss 0.10427236557006836\n",
            "epoch 1, loss 0.17885898053646088\n",
            "epoch 1, loss 0.031003834679722786\n",
            "epoch 1, loss 0.27208212018013\n",
            "epoch 1, loss 0.05562594532966614\n",
            "epoch 1, loss 0.09482652693986893\n",
            "epoch 1, loss 0.21913795173168182\n",
            "epoch 1, loss 0.015344075858592987\n",
            "epoch 1, loss 0.09763187915086746\n",
            "epoch 1, loss 0.22498546540737152\n",
            "epoch 1, loss 0.1599133461713791\n",
            "epoch 1, loss 0.1096019521355629\n",
            "epoch 1, loss 0.11257708817720413\n",
            "epoch 1, loss 0.051099397242069244\n",
            "epoch 1, loss 0.009323994629085064\n",
            "epoch 1, loss 0.2373470515012741\n",
            "epoch 1, loss 0.04496333748102188\n",
            "epoch 1, loss 0.07767841964960098\n",
            "epoch 1, loss 0.41594815254211426\n",
            "epoch 1, loss 0.11116033047437668\n",
            "epoch 1, loss 0.18378642201423645\n",
            "epoch 2, loss 0.10654488205909729\n",
            "epoch 2, loss 0.056681908667087555\n",
            "epoch 2, loss 0.06594099849462509\n",
            "epoch 2, loss 0.016737723723053932\n",
            "epoch 2, loss 0.14980432391166687\n",
            "epoch 2, loss 0.01170896366238594\n",
            "epoch 2, loss 0.0948864221572876\n",
            "epoch 2, loss 0.05588742718100548\n",
            "epoch 2, loss 0.023272499442100525\n",
            "epoch 2, loss 0.1364767849445343\n",
            "epoch 2, loss 0.028909077867865562\n",
            "epoch 2, loss 0.007169343065470457\n",
            "epoch 2, loss 0.30588439106941223\n",
            "epoch 2, loss 0.010104643180966377\n",
            "epoch 2, loss 0.036763545125722885\n",
            "epoch 2, loss 0.13772332668304443\n",
            "epoch 2, loss 0.04737493395805359\n",
            "epoch 2, loss 0.12887921929359436\n",
            "epoch 2, loss 0.014446891844272614\n",
            "epoch 2, loss 0.010810247622430325\n",
            "epoch 2, loss 0.2959173023700714\n",
            "epoch 2, loss 0.07846665382385254\n",
            "epoch 2, loss 0.2106405645608902\n",
            "epoch 2, loss 0.032187558710575104\n",
            "epoch 2, loss 0.012648329138755798\n",
            "epoch 2, loss 0.08097760379314423\n",
            "epoch 2, loss 0.09412166476249695\n",
            "epoch 2, loss 0.014820394106209278\n",
            "epoch 2, loss 0.07316190749406815\n",
            "epoch 2, loss 0.03472602367401123\n",
            "epoch 2, loss 0.014263595454394817\n",
            "epoch 2, loss 0.037870265543460846\n",
            "epoch 2, loss 0.03769088536500931\n",
            "epoch 2, loss 0.06260107457637787\n",
            "epoch 2, loss 0.2970466613769531\n",
            "epoch 2, loss 0.16277125477790833\n",
            "epoch 2, loss 0.010288937017321587\n",
            "epoch 2, loss 0.14167176187038422\n",
            "epoch 3, loss 0.032108135521411896\n",
            "epoch 3, loss 0.018417419865727425\n",
            "epoch 3, loss 0.0027808072045445442\n",
            "epoch 3, loss 0.009732852689921856\n",
            "epoch 3, loss 0.022212915122509003\n",
            "epoch 3, loss 0.034477200359106064\n",
            "epoch 3, loss 0.003156567458063364\n",
            "epoch 3, loss 0.0073989080265164375\n",
            "epoch 3, loss 0.01668834686279297\n",
            "epoch 3, loss 0.027767730876803398\n",
            "epoch 3, loss 0.0055556753650307655\n",
            "epoch 3, loss 0.002764365868642926\n",
            "epoch 3, loss 0.008298814296722412\n",
            "epoch 3, loss 0.00034729475737549365\n",
            "epoch 3, loss 0.07758526504039764\n",
            "epoch 3, loss 0.0027417566161602736\n",
            "epoch 3, loss 0.05174842104315758\n",
            "epoch 3, loss 0.0792110487818718\n",
            "epoch 3, loss 0.0013273394433781505\n",
            "epoch 3, loss 0.37845420837402344\n",
            "epoch 3, loss 0.04037328064441681\n",
            "epoch 3, loss 0.04292364791035652\n",
            "epoch 3, loss 0.12049048393964767\n",
            "epoch 3, loss 0.08829862624406815\n",
            "epoch 3, loss 0.07220706343650818\n",
            "epoch 3, loss 0.002625667490065098\n",
            "epoch 3, loss 0.006210769526660442\n",
            "epoch 3, loss 0.005265329033136368\n",
            "epoch 3, loss 0.0037006346974521875\n",
            "epoch 3, loss 0.000701110519003123\n",
            "epoch 3, loss 0.20145167410373688\n",
            "epoch 3, loss 0.030646050348877907\n",
            "epoch 3, loss 0.009469891898334026\n",
            "epoch 3, loss 0.011450957506895065\n",
            "epoch 3, loss 0.005222485866397619\n",
            "epoch 3, loss 0.030338402837514877\n",
            "epoch 3, loss 0.004410721827298403\n",
            "epoch 3, loss 0.030050110071897507\n",
            "epoch 4, loss 0.06432972103357315\n",
            "epoch 4, loss 0.008685641922056675\n",
            "epoch 4, loss 0.001353322179056704\n",
            "epoch 4, loss 0.11253780871629715\n",
            "epoch 4, loss 0.005716233514249325\n",
            "epoch 4, loss 0.0443430095911026\n",
            "epoch 4, loss 0.08239654451608658\n",
            "epoch 4, loss 0.0007478580810129642\n",
            "epoch 4, loss 0.03686131164431572\n",
            "epoch 4, loss 0.0008241976029239595\n",
            "epoch 4, loss 0.007037030532956123\n",
            "epoch 4, loss 0.006479788105934858\n",
            "epoch 4, loss 0.01540384255349636\n",
            "epoch 4, loss 0.009029547683894634\n",
            "epoch 4, loss 0.0014978302642703056\n"
          ]
        }
      ],
      "source": [
        "model = Net()\n",
        "optimizer = optim.SGD(model.parameters(), lr=0.01, momentum=0.9)\n",
        "nb_epoch = 10\n",
        "for epoch in range(1, nb_epoch + 1):\n",
        "        # --- START CODE HERE  (06)\n",
        "        train(model, train_loader, optimizer, epoch)\n",
        "        # --- END CODE HERE"
      ]
    },
    {
      "cell_type": "code",
      "execution_count": null,
      "metadata": {},
      "outputs": [
        {
          "name": "stdout",
          "output_type": "stream",
          "text": [
            "\n",
            "Test set: Average loss: 0.004656861536204815, Accuracy: 0.9819\n",
            "\n"
          ]
        }
      ],
      "source": [
        "test(model, test_loader)"
      ]
    },
    {
      "cell_type": "markdown",
      "metadata": {
        "id": "rXOlN4Bj4Sk0"
      },
      "source": [
        "# Peer-grading\n",
        "\n",
        "To great the Lab, you will apply the following:\n",
        "- When the code of a part (each part is numbered as \"START CODE (01)\" ... \"START CODE (06)\") is correct you get 1.5 point.\n",
        "- You will give one extra point is all the code is correct and run smoothly\n",
        "- So the total for Lab is 10 points."
      ]
    },
    {
      "cell_type": "code",
      "execution_count": null,
      "metadata": {
        "id": "Rmga0J_oyZC1"
      },
      "outputs": [],
      "source": []
    }
  ],
  "metadata": {
    "colab": {
      "provenance": []
    },
    "kernelspec": {
      "display_name": "Python 3",
      "language": "python",
      "name": "python3"
    },
    "language_info": {
      "codemirror_mode": {
        "name": "ipython",
        "version": 3
      },
      "file_extension": ".py",
      "mimetype": "text/x-python",
      "name": "python",
      "nbconvert_exporter": "python",
      "pygments_lexer": "ipython3",
      "version": "3.11.2"
    },
    "toc": {
      "base_numbering": 1,
      "nav_menu": {},
      "number_sections": true,
      "sideBar": true,
      "skip_h1_title": false,
      "title_cell": "Table of Contents",
      "title_sidebar": "Contents",
      "toc_cell": false,
      "toc_position": {
        "height": "calc(100% - 180px)",
        "left": "10px",
        "top": "150px",
        "width": "165px"
      },
      "toc_section_display": true,
      "toc_window_display": false
    }
  },
  "nbformat": 4,
  "nbformat_minor": 0
}
