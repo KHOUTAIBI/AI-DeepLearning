{
 "cells": [
  {
   "cell_type": "code",
   "execution_count": 2,
   "id": "149938de",
   "metadata": {},
   "outputs": [],
   "source": [
    "import numpy as np\n",
    "import tensorflow as tf\n",
    "from tensorflow import keras\n",
    "from tensorflow.keras import layers\n",
    "import matplotlib.pyplot as plt"
   ]
  },
  {
   "cell_type": "markdown",
   "id": "657ee878-16b7-46ab-811d-48aebc085cf1",
   "metadata": {},
   "source": [
    "# 1. Loading the data"
   ]
  },
  {
   "cell_type": "code",
   "execution_count": 3,
   "id": "9afc7a6a-14b1-4bf8-8cbf-f15d61a2c1ac",
   "metadata": {},
   "outputs": [],
   "source": [
    "train_data, test_data = tf.keras.datasets.mnist.load_data(path=\"mnist.npz\")\n",
    "x_train = train_data[0].reshape(-1,784).astype(float) / 255\n",
    "y_train = train_data[1]"
   ]
  },
  {
   "cell_type": "code",
   "execution_count": 6,
   "id": "20cafb01",
   "metadata": {},
   "outputs": [
    {
     "name": "stdout",
     "output_type": "stream",
     "text": [
      "Num GPUs Available:  1\n"
     ]
    }
   ],
   "source": [
    "number_GPUS = len(tf.config.list_physical_devices('GPU'))\n",
    "if number_GPUS:\n",
    "    print(\"Num GPUs Available: \", len(tf.config.list_physical_devices('GPU')))\n",
    "else :\n",
    "    print(\"No GPUs available :(\")"
   ]
  },
  {
   "cell_type": "code",
   "execution_count": 7,
   "id": "76f055f2-a9f7-4905-bab0-d2d53287b65e",
   "metadata": {},
   "outputs": [
    {
     "name": "stdout",
     "output_type": "stream",
     "text": [
      "label is 4\n"
     ]
    },
    {
     "data": {
      "image/png": "[encoded data removed]",
      "text/plain": [
       "<Figure size 640x480 with 1 Axes>"
      ]
     },
     "metadata": {},
     "output_type": "display_data"
    }
   ],
   "source": [
    "# exploring the data\n",
    "i = np.random.randint(y_train.size)\n",
    "\n",
    "print(\"label is\", y_train[i])\n",
    "plt.imshow(train_data[0][i], cmap='gray')\n",
    "plt.show()"
   ]
  },
  {
   "cell_type": "markdown",
   "id": "8feee3fb-8b54-4cd2-8ee1-a003d1292f8a",
   "metadata": {},
   "source": [
    "# 2. Building the model\n",
    "\n",
    "We use Keras to build a fully-connected neural network.\n",
    "\n",
    "For more details, see https://keras.io/guides/training_with_built_in_methods/"
   ]
  },
  {
   "cell_type": "code",
   "execution_count": 8,
   "id": "4b521b78",
   "metadata": {},
   "outputs": [
    {
     "name": "stderr",
     "output_type": "stream",
     "text": [
      "I0000 00:00:1737987875.817500    3006 gpu_device.cc:2022] Created device /job:localhost/replica:0/task:0/device:GPU:0 with 5563 MB memory:  -> device: 0, name: NVIDIA GeForce RTX 4060 Laptop GPU, pci bus id: 0000:01:00.0, compute capability: 8.9\n"
     ]
    },
    {
     "data": {
      "text/html": [
       "<pre style=\"white-space:pre;overflow-x:auto;line-height:normal;font-family:Menlo,'DejaVu Sans Mono',consolas,'Courier New',monospace\"><span style=\"font-weight: bold\">Model: \"mnist_model\"</span>\n",
       "</pre>\n"
      ],
      "text/plain": [
       "\u001b[1mModel: \"mnist_model\"\u001b[0m\n"
      ]
     },
     "metadata": {},
     "output_type": "display_data"
    },
    {
     "data": {
      "text/html": [
       "<pre style=\"white-space:pre;overflow-x:auto;line-height:normal;font-family:Menlo,'DejaVu Sans Mono',consolas,'Courier New',monospace\">┏━━━━━━━━━━━━━━━━━━━━━━━━━━━━━━━━━┳━━━━━━━━━━━━━━━━━━━━━━━━┳━━━━━━━━━━━━━━━┓\n",
       "┃<span style=\"font-weight: bold\"> Layer (type)                    </span>┃<span style=\"font-weight: bold\"> Output Shape           </span>┃<span style=\"font-weight: bold\">       Param # </span>┃\n",
       "┡━━━━━━━━━━━━━━━━━━━━━━━━━━━━━━━━━╇━━━━━━━━━━━━━━━━━━━━━━━━╇━━━━━━━━━━━━━━━┩\n",
       "│ digits (<span style=\"color: #0087ff; text-decoration-color: #0087ff\">InputLayer</span>)             │ (<span style=\"color: #00d7ff; text-decoration-color: #00d7ff\">None</span>, <span style=\"color: #00af00; text-decoration-color: #00af00\">784</span>)            │             <span style=\"color: #00af00; text-decoration-color: #00af00\">0</span> │\n",
       "├─────────────────────────────────┼────────────────────────┼───────────────┤\n",
       "│ dense_1 (<span style=\"color: #0087ff; text-decoration-color: #0087ff\">Dense</span>)                 │ (<span style=\"color: #00d7ff; text-decoration-color: #00d7ff\">None</span>, <span style=\"color: #00af00; text-decoration-color: #00af00\">32</span>)             │        <span style=\"color: #00af00; text-decoration-color: #00af00\">25,120</span> │\n",
       "├─────────────────────────────────┼────────────────────────┼───────────────┤\n",
       "│ dense_2 (<span style=\"color: #0087ff; text-decoration-color: #0087ff\">Dense</span>)                 │ (<span style=\"color: #00d7ff; text-decoration-color: #00d7ff\">None</span>, <span style=\"color: #00af00; text-decoration-color: #00af00\">32</span>)             │         <span style=\"color: #00af00; text-decoration-color: #00af00\">1,056</span> │\n",
       "├─────────────────────────────────┼────────────────────────┼───────────────┤\n",
       "│ predictions (<span style=\"color: #0087ff; text-decoration-color: #0087ff\">Dense</span>)             │ (<span style=\"color: #00d7ff; text-decoration-color: #00d7ff\">None</span>, <span style=\"color: #00af00; text-decoration-color: #00af00\">10</span>)             │           <span style=\"color: #00af00; text-decoration-color: #00af00\">330</span> │\n",
       "└─────────────────────────────────┴────────────────────────┴───────────────┘\n",
       "</pre>\n"
      ],
      "text/plain": [
       "┏━━━━━━━━━━━━━━━━━━━━━━━━━━━━━━━━━┳━━━━━━━━━━━━━━━━━━━━━━━━┳━━━━━━━━━━━━━━━┓\n",
       "┃\u001b[1m \u001b[0m\u001b[1mLayer (type)                   \u001b[0m\u001b[1m \u001b[0m┃\u001b[1m \u001b[0m\u001b[1mOutput Shape          \u001b[0m\u001b[1m \u001b[0m┃\u001b[1m \u001b[0m\u001b[1m      Param #\u001b[0m\u001b[1m \u001b[0m┃\n",
       "┡━━━━━━━━━━━━━━━━━━━━━━━━━━━━━━━━━╇━━━━━━━━━━━━━━━━━━━━━━━━╇━━━━━━━━━━━━━━━┩\n",
       "│ digits (\u001b[38;5;33mInputLayer\u001b[0m)             │ (\u001b[38;5;45mNone\u001b[0m, \u001b[38;5;34m784\u001b[0m)            │             \u001b[38;5;34m0\u001b[0m │\n",
       "├─────────────────────────────────┼────────────────────────┼───────────────┤\n",
       "│ dense_1 (\u001b[38;5;33mDense\u001b[0m)                 │ (\u001b[38;5;45mNone\u001b[0m, \u001b[38;5;34m32\u001b[0m)             │        \u001b[38;5;34m25,120\u001b[0m │\n",
       "├─────────────────────────────────┼────────────────────────┼───────────────┤\n",
       "│ dense_2 (\u001b[38;5;33mDense\u001b[0m)                 │ (\u001b[38;5;45mNone\u001b[0m, \u001b[38;5;34m32\u001b[0m)             │         \u001b[38;5;34m1,056\u001b[0m │\n",
       "├─────────────────────────────────┼────────────────────────┼───────────────┤\n",
       "│ predictions (\u001b[38;5;33mDense\u001b[0m)             │ (\u001b[38;5;45mNone\u001b[0m, \u001b[38;5;34m10\u001b[0m)             │           \u001b[38;5;34m330\u001b[0m │\n",
       "└─────────────────────────────────┴────────────────────────┴───────────────┘\n"
      ]
     },
     "metadata": {},
     "output_type": "display_data"
    },
    {
     "data": {
      "text/html": [
       "<pre style=\"white-space:pre;overflow-x:auto;line-height:normal;font-family:Menlo,'DejaVu Sans Mono',consolas,'Courier New',monospace\"><span style=\"font-weight: bold\"> Total params: </span><span style=\"color: #00af00; text-decoration-color: #00af00\">26,506</span> (103.54 KB)\n",
       "</pre>\n"
      ],
      "text/plain": [
       "\u001b[1m Total params: \u001b[0m\u001b[38;5;34m26,506\u001b[0m (103.54 KB)\n"
      ]
     },
     "metadata": {},
     "output_type": "display_data"
    },
    {
     "data": {
      "text/html": [
       "<pre style=\"white-space:pre;overflow-x:auto;line-height:normal;font-family:Menlo,'DejaVu Sans Mono',consolas,'Courier New',monospace\"><span style=\"font-weight: bold\"> Trainable params: </span><span style=\"color: #00af00; text-decoration-color: #00af00\">26,506</span> (103.54 KB)\n",
       "</pre>\n"
      ],
      "text/plain": [
       "\u001b[1m Trainable params: \u001b[0m\u001b[38;5;34m26,506\u001b[0m (103.54 KB)\n"
      ]
     },
     "metadata": {},
     "output_type": "display_data"
    },
    {
     "data": {
      "text/html": [
       "<pre style=\"white-space:pre;overflow-x:auto;line-height:normal;font-family:Menlo,'DejaVu Sans Mono',consolas,'Courier New',monospace\"><span style=\"font-weight: bold\"> Non-trainable params: </span><span style=\"color: #00af00; text-decoration-color: #00af00\">0</span> (0.00 B)\n",
       "</pre>\n"
      ],
      "text/plain": [
       "\u001b[1m Non-trainable params: \u001b[0m\u001b[38;5;34m0\u001b[0m (0.00 B)\n"
      ]
     },
     "metadata": {},
     "output_type": "display_data"
    }
   ],
   "source": [
    "# source : https://keras.io/guides/training_with_built_in_methods/\n",
    "\n",
    "def build_model():\n",
    "    inputs = keras.Input(shape=(784,), name=\"digits\")\n",
    "    x = layers.Dense(32, activation=\"relu\", name=\"dense_1\")(inputs)\n",
    "    x = layers.Dense(32, activation=\"relu\", name=\"dense_2\")(x)\n",
    "    outputs = layers.Dense(10, activation=\"softmax\", name=\"predictions\")(x)\n",
    "    model = keras.Model(inputs=inputs, outputs=outputs, name=\"mnist_model\")\n",
    "    return model\n",
    "\n",
    "model = build_model()\n",
    "\n",
    "loss = keras.losses.sparse_categorical_crossentropy\n",
    "\n",
    "model.summary()"
   ]
  },
  {
   "cell_type": "markdown",
   "id": "6c28733a",
   "metadata": {},
   "source": [
    "As we can see, the number of parameters to optimise in this lab, i.e the dimension of the Vector $\\theta$, is : 26,506. In the beginning, the model is initialised with random weights and not zero as one might think ! This is because starting from zero essentially computes huge gradients, making the model weight update unstable. Moreover, starting from random weights makes the convergence faster, it reduces the number of iterations."
   ]
  },
  {
   "cell_type": "code",
   "execution_count": 15,
   "id": "641eb3f4",
   "metadata": {},
   "outputs": [
    {
     "name": "stdout",
     "output_type": "stream",
     "text": [
      "[<Variable path=dense_1/kernel, shape=(784, 32), dtype=float32, value=[[ 0.03266909  0.01676944  0.06883935 ...  0.0356755  -0.03766349\n",
      "  -0.08132578]\n",
      " [-0.00585467  0.05809069 -0.01978034 ...  0.04725463  0.04076984\n",
      "  -0.04083237]\n",
      " [ 0.048846    0.01838725 -0.08382583 ... -0.02967487 -0.01973692\n",
      "   0.07168648]\n",
      " ...\n",
      " [-0.04976108 -0.06698325 -0.06504177 ... -0.04549981 -0.05536588\n",
      "   0.08394992]\n",
      " [ 0.00909196  0.06182548  0.03871474 ... -0.07238568 -0.08078574\n",
      "   0.05441978]\n",
      " [ 0.0375762   0.00751967  0.08288997 ... -0.00970547 -0.0562927\n",
      "   0.02358779]]>, <Variable path=dense_1/bias, shape=(32,), dtype=float32, value=[0. 0. 0. 0. 0. 0. 0. 0. 0. 0. 0. 0. 0. 0. 0. 0. 0. 0. 0. 0. 0. 0. 0. 0.\n",
      " 0. 0. 0. 0. 0. 0. 0. 0.]>, <Variable path=dense_2/kernel, shape=(32, 32), dtype=float32, value=[[ 0.2181721   0.15478885  0.25845727 ... -0.2501274  -0.24006414\n",
      "  -0.16121924]\n",
      " [ 0.14620239 -0.16543268  0.123907   ... -0.08835213 -0.05901578\n",
      "   0.06275693]\n",
      " [-0.15291075 -0.1977394  -0.01166111 ... -0.22633895  0.27773347\n",
      "   0.04947212]\n",
      " ...\n",
      " [-0.06882478  0.08133188  0.11168534 ... -0.06295751  0.17157933\n",
      "  -0.10546841]\n",
      " [-0.23730917 -0.18825671  0.20636836 ...  0.11968604  0.18857908\n",
      "   0.04838648]\n",
      " [-0.12245977 -0.01977056  0.12280506 ... -0.09132594  0.06999323\n",
      "   0.15993544]]>, <Variable path=dense_2/bias, shape=(32,), dtype=float32, value=[0. 0. 0. 0. 0. 0. 0. 0. 0. 0. 0. 0. 0. 0. 0. 0. 0. 0. 0. 0. 0. 0. 0. 0.\n",
      " 0. 0. 0. 0. 0. 0. 0. 0.]>, <Variable path=predictions/kernel, shape=(32, 10), dtype=float32, value=[[ 0.29904392 -0.37288034  0.07453695  0.30802456 -0.36495978  0.3704454\n",
      "   0.2483333  -0.20193672 -0.09247348 -0.36882657]\n",
      " [-0.09537658 -0.37488627  0.11189327 -0.29727608  0.13011488  0.22474018\n",
      "  -0.25604498 -0.02547479  0.09767663  0.33170554]\n",
      " [ 0.3344303   0.05826592  0.20169863  0.13769874  0.32338628 -0.2808342\n",
      "  -0.00185248  0.14959946  0.14481118  0.30189863]\n",
      " [-0.29366422 -0.31822076  0.35843465 -0.35245353  0.07921061 -0.24079917\n",
      "   0.36014202 -0.21307793 -0.04251072  0.05510563]\n",
      " [ 0.2501031  -0.03959274  0.07764238 -0.09545362 -0.31399938  0.164072\n",
      "  -0.13349776  0.16251096  0.36397943  0.095864  ]\n",
      " [-0.0812771  -0.30703026  0.2690346  -0.26829216  0.262414    0.08924955\n",
      "   0.12260577 -0.15650903  0.18819395 -0.3594787 ]\n",
      " [-0.20555434  0.29396018 -0.25232446 -0.21270216 -0.13476296  0.20914331\n",
      "  -0.20215516 -0.31112197 -0.20818223 -0.19106792]\n",
      " [ 0.27846047  0.26628724 -0.16948316 -0.04565522 -0.05713266 -0.0084644\n",
      "  -0.18667054 -0.36552337  0.02175969  0.107503  ]\n",
      " [ 0.2959188  -0.2546376  -0.11781868 -0.04030526 -0.17521177  0.01346588\n",
      "   0.01814917  0.19655582 -0.30798763  0.3043737 ]\n",
      " [-0.3602171   0.13398615 -0.36888534 -0.0668799   0.08014607  0.2817987\n",
      "   0.15635708  0.18713298  0.28082886  0.34212884]\n",
      " [ 0.03276446 -0.36651236  0.08578649 -0.18266606  0.02536008  0.34588912\n",
      "  -0.25129384  0.2946525   0.23365864  0.21014646]\n",
      " [ 0.05739605  0.298386    0.32148972 -0.0254173   0.14812753 -0.11408851\n",
      "  -0.08622533  0.13777372  0.24857184  0.3516498 ]\n",
      " [ 0.17537561 -0.1857331  -0.33856645  0.08536294 -0.18652582  0.03863969\n",
      "   0.24940142 -0.28623724  0.35199037 -0.01746351]\n",
      " [ 0.30086777 -0.11613798 -0.21073434  0.17459485  0.25632372 -0.03612688\n",
      "  -0.24064337 -0.21566321 -0.24607849  0.12676308]\n",
      " [-0.23234181  0.01456851 -0.34850305 -0.31374535  0.20644477 -0.16864744\n",
      "   0.07564616 -0.12526622 -0.204572   -0.18941857]\n",
      " [ 0.23760417  0.09224701 -0.18290892 -0.29313552  0.05563787  0.11111313\n",
      "  -0.18169257 -0.2406814  -0.28587028  0.03650111]\n",
      " [-0.34850448  0.26385656  0.20866063  0.26419333  0.05252263  0.33701256\n",
      "   0.34920195  0.25123397  0.09341994  0.27566066]\n",
      " [-0.07759947 -0.18529217  0.24454013 -0.02966896  0.00807464  0.03573605\n",
      "  -0.06065106  0.05093536 -0.33595362  0.30706927]\n",
      " [-0.01020178  0.04495433 -0.04201066 -0.00421751  0.10027552 -0.10156262\n",
      "   0.3361874   0.29780188 -0.08926722  0.0811924 ]\n",
      " [-0.09431863 -0.05471987 -0.10867241  0.3475587   0.13884339  0.12045929\n",
      "  -0.04474723  0.25577626  0.15341923  0.14447704]\n",
      " [ 0.35074344  0.31370464 -0.35540828 -0.04251117  0.17091379 -0.13715746\n",
      "   0.0284017   0.2292535  -0.25807074  0.22791633]\n",
      " [-0.11547554  0.10790309  0.3381442  -0.33807614 -0.2062291   0.17898563\n",
      "  -0.08791983  0.01423445  0.04828539 -0.30755454]\n",
      " [ 0.16329053 -0.16242689  0.15764353  0.0734309  -0.31384104  0.28566918\n",
      "   0.36645785 -0.3277967  -0.35084987  0.36183503]\n",
      " [ 0.25194618 -0.17057173  0.15315321  0.1448429  -0.05852816 -0.35678637\n",
      "  -0.10282591 -0.33437067 -0.18829656 -0.13524677]\n",
      " [-0.21445586  0.24764314  0.2528179  -0.26963863 -0.15186726  0.31493935\n",
      "  -0.15379371 -0.12341356  0.16202947  0.10943818]\n",
      " [-0.3067727   0.02624536  0.07406539  0.23973033 -0.20616657 -0.18955338\n",
      "   0.33284953  0.05608672 -0.21182327 -0.14336908]\n",
      " [-0.14140064  0.25493196  0.35879412  0.09994525  0.15800527 -0.29251385\n",
      "   0.15614757  0.16337278  0.11946145  0.28301457]\n",
      " [-0.18568073  0.18874803  0.10361063  0.2604991   0.01667014 -0.05536941\n",
      "   0.07791272  0.12280855 -0.27252236  0.2625942 ]\n",
      " [ 0.07780132  0.0668326  -0.18165797  0.1088793   0.06243208  0.28706977\n",
      "  -0.29595736 -0.01097226  0.27065036 -0.14532013]\n",
      " [-0.25797918  0.18186787  0.17693701 -0.11730856  0.1667507  -0.05230391\n",
      "   0.14755228  0.35939118  0.08220094 -0.28197837]\n",
      " [-0.2203137  -0.06862199 -0.26457226 -0.06963512  0.30090728 -0.09806025\n",
      "  -0.29284635 -0.00157556 -0.1800653   0.0680531 ]\n",
      " [-0.28827703  0.3250893   0.17361656 -0.01640069  0.08793238 -0.03700793\n",
      "   0.28798947  0.01435664 -0.22702853 -0.21535556]]>, <Variable path=predictions/bias, shape=(10,), dtype=float32, value=[0. 0. 0. 0. 0. 0. 0. 0. 0. 0.]>]\n"
     ]
    }
   ],
   "source": [
    "print(model.trainable_weights)"
   ]
  },
  {
   "cell_type": "markdown",
   "id": "981e5f7d",
   "metadata": {},
   "source": [
    "Down below, we see the results of a Neural Network initialized with random weights and no optimisation."
   ]
  },
  {
   "cell_type": "code",
   "execution_count": 11,
   "id": "b18b6bdb",
   "metadata": {},
   "outputs": [
    {
     "data": {
      "text/plain": [
       "array([9, 5, 9, 4, 9, 5, 9, 9, 9, 5, 9, 9, 6, 9, 9, 9, 5, 9, 2, 2, 5, 5,\n",
       "       4, 4, 2, 9, 5, 9, 9, 5])"
      ]
     },
     "execution_count": 11,
     "metadata": {},
     "output_type": "execute_result"
    }
   ],
   "source": [
    "# untrained model\n",
    "predicted_probas = model(x_train)\n",
    "y_pred = np.argmax(predicted_probas, 1) # the prediction is the class with highest probability\n",
    "y_pred[0:30]"
   ]
  },
  {
   "cell_type": "code",
   "execution_count": 12,
   "id": "35d74f67",
   "metadata": {},
   "outputs": [
    {
     "data": {
      "text/plain": [
       "array([5, 0, 4, 1, 9, 2, 1, 3, 1, 4, 3, 5, 3, 6, 1, 7, 2, 8, 6, 9, 4, 0,\n",
       "       9, 1, 1, 2, 4, 3, 2, 7], dtype=uint8)"
      ]
     },
     "execution_count": 12,
     "metadata": {},
     "output_type": "execute_result"
    }
   ],
   "source": [
    "# what we would like to get\n",
    "y_train[0:30]"
   ]
  },
  {
   "cell_type": "code",
   "execution_count": 77,
   "id": "be4b9538",
   "metadata": {},
   "outputs": [
    {
     "name": "stdout",
     "output_type": "stream",
     "text": [
      "The accuracy of the just initialized model is : 0.8130000233650208\n"
     ]
    }
   ],
   "source": [
    "predicted_probas = model(x_train)\n",
    "y_pred = np.argmax(predicted_probas, 1) # the prediction is the class with highest probability\n",
    "accuracy = keras.metrics.Accuracy()\n",
    "accuracy.update_state(y_pred,y_train)\n",
    "print(f\"The accuracy of the just initialized model is : {accuracy.result().numpy()}\")"
   ]
  },
  {
   "cell_type": "markdown",
   "id": "6bbec982",
   "metadata": {},
   "source": [
    "The accuracy rate is indeed <b>Awful</b>.  \n",
    "We will down below use the gradient descent algorithm to decrease the loss to a minimum."
   ]
  },
  {
   "cell_type": "markdown",
   "id": "a2c1255b-36d0-4d05-a5a0-fa9408742b56",
   "metadata": {},
   "source": [
    "# 3. Computing gradients\n",
    "\n",
    "We are now going to implement the stochastic gradient method using the Keras functionalities. \n",
    "\n",
    "First, we need to understand how to compute gradients using auto-differentation (also called **backpropagation**)."
   ]
  },
  {
   "cell_type": "code",
   "execution_count": 16,
   "id": "e7cbc050-6044-4149-9354-0d3870837d82",
   "metadata": {},
   "outputs": [],
   "source": [
    "# Source: https://keras.io/guides/writing_a_custom_training_loop_in_tensorflow/\n",
    "\n",
    "# Example of gradient computation using automatic differentiation\n",
    "\n",
    "# selecting a batch\n",
    "x_train_batch = x_train[:8]\n",
    "y_train_batch = y_train[:8]\n",
    "\n",
    "# Open a GradientTape to record the operations run\n",
    "# during the forward pass, which enables auto-differentiation.\n",
    "with tf.GradientTape() as tape:\n",
    "        # Run the forward pass of the layer.\n",
    "        # The operations that the layer applies\n",
    "        # to its inputs are going to be recorded\n",
    "        # on the GradientTape.\n",
    "    \n",
    "        logits = model(x_train_batch)  # Logits for this minibatch (the logits are the name we give to the Neural Network output)\n",
    "\n",
    "        # Compute the loss value for this minibatch.\n",
    "        loss_value = loss(y_train_batch, logits) # getting the loss function\n",
    "\n",
    "# Use the gradient tape to automatically retrieve\n",
    "# the gradients of the trainable variables with respect to the loss.\n",
    "grad = tape.gradient(loss_value, model.trainable_weights)"
   ]
  },
  {
   "cell_type": "markdown",
   "id": "f2f189a1-5cec-4723-93fc-8693ec8d6a5c",
   "metadata": {},
   "source": [
    "We also define two important helper functions."
   ]
  },
  {
   "cell_type": "code",
   "execution_count": 17,
   "id": "dab2abd2-91e5-4b9e-a863-e1e3ea3dcd64",
   "metadata": {},
   "outputs": [],
   "source": [
    "## update the weights by adding real_factor * update\n",
    "def update_weights(model, update, real_factor = 1.):\n",
    "    new_weights = model.trainable_weights.copy()\n",
    "    \n",
    "    # iterate over all layers\n",
    "    for i in range(len(new_weights)):\n",
    "        new_weights[i] = new_weights[i] + real_factor * update[i]\n",
    "        \n",
    "    model.set_weights(new_weights)\n",
    "\n",
    "\n",
    "# Evaluate model\n",
    "def mean_loss(model, X, Y):\n",
    "    logits = model(X)\n",
    "    return np.mean(loss(Y, logits))"
   ]
  },
  {
   "cell_type": "code",
   "execution_count": 18,
   "id": "9c11dcf5-bcd8-403b-ae60-41c755b5c5ec",
   "metadata": {},
   "outputs": [
    {
     "data": {
      "text/plain": [
       "2.3495471"
      ]
     },
     "execution_count": 18,
     "metadata": {},
     "output_type": "execute_result"
    }
   ],
   "source": [
    "# evaluating the train loss on the whole dataset\n",
    "# this is a costly operation, use sparsely\n",
    "mean_loss(model, x_train, y_train)"
   ]
  },
  {
   "cell_type": "markdown",
   "id": "ae0785ce-c5e2-4103-b4a8-1b10df2abf4d",
   "metadata": {},
   "source": [
    "# 4. Training the model"
   ]
  },
  {
   "cell_type": "markdown",
   "id": "be3735c3",
   "metadata": {},
   "source": [
    "A classical gradient descent algorithm might be better and more precise in our case. However, with an input size of $60000$ images, as in our case, it may be computationally expensive.  \n",
    "\n",
    "We shall then use the stochastic gradient algorithm as seen in the course, with an appropriate learning rate. The SGD algorith states:\n",
    "\n",
    "Take $$x_{o} \\in \\R^n$$\n",
    "\n",
    "$$ \\forall k \\geq 0, j \\sim U(1,..,n), x_{k+1} = x_{k} - \\gamma \\nabla g_{j}(x_{k})$$\n",
    "\n",
    "with $g$ a loss function defined in the optimisation problem.\n",
    "\n",
    "In our case, we will take a random image from the training set and a random image from the accuracy set, we will compute the predicted image and the loss. Finally, we will update the weights using gradient descent.\n",
    "\n",
    "\n",
    "It is good practice to seperate the computation in chunks, or to create what we call <b>checkpoints</b>. We use tensorflow's <b>save_weights</b> function to save the weights in a <b>h5</b> file.\n",
    "\n",
    "Down below we have the SGD Algorithm, but for only a batch size of 1."
   ]
  },
  {
   "cell_type": "code",
   "execution_count": 24,
   "id": "246c8ebb-a57e-4548-a69c-338055cf04a4",
   "metadata": {
    "scrolled": true
   },
   "outputs": [],
   "source": [
    "# Stochastic gradient algorithm\n",
    "mean_list = []\n",
    "def SGD(model, x_train, y_train, learning_rate, epochs=1, batch_size=1,load_weights=False):\n",
    "        \n",
    "        try :\n",
    "\n",
    "            if load_weights:\n",
    "                 model.load_weights('./model1.weights.h5')\n",
    "\n",
    "            for epoch in range(epochs*x_train.shape[0] // 10):\n",
    "                \n",
    "                # Converting to Tensor in order to speed up computation\n",
    "                random_index = np.random.randint(0,x_train.shape[0])   \n",
    "                x_train_sample = tf.convert_to_tensor(x_train[random_index:random_index+batch_size])\n",
    "                y_train_sample = tf.convert_to_tensor(y_train[random_index:random_index+batch_size])\n",
    "\n",
    "                # computing the gradient \n",
    "                with tf.GradientTape() as tape:\n",
    "                    logits = model(x_train_sample,training=True)\n",
    "                    loss_value = loss(y_train_sample, logits)\n",
    "\n",
    "                # updating the weight\n",
    "                gradient = tape.gradient(loss_value,model.trainable_weights) \n",
    "                update_weights(model,gradient,-learning_rate)\n",
    "\n",
    "                # We will save the weights every 100 iterations\n",
    "                if epoch % 100 == 0 and epoch != 0:\n",
    "                    mean_list.append(mean_loss(model,x_train,y_train))\n",
    "                    model.save_weights('./model1.weights.h5')\n",
    "                    print(f\"loss at iteration {epoch} is: {mean_list[-1]}\")\n",
    "\n",
    "            model.save_weights('./model1.weights.h5')\n",
    "        \n",
    "        # If we wish to interrupt the program early\n",
    "        except KeyboardInterrupt:\n",
    "            \n",
    "            model.save_weights('./weights/model1.weights.h5')\n",
    "        "
   ]
  },
  {
   "cell_type": "code",
   "execution_count": 25,
   "id": "79465229-cdc5-47d2-9a01-ad10f01132b1",
   "metadata": {},
   "outputs": [
    {
     "name": "stdout",
     "output_type": "stream",
     "text": [
      "loss at iteration 100 is: 2.199049234390259\n",
      "loss at iteration 200 is: 1.9629794359207153\n",
      "loss at iteration 300 is: 1.722861647605896\n",
      "loss at iteration 400 is: 1.4024981260299683\n",
      "loss at iteration 500 is: 1.3166697025299072\n",
      "loss at iteration 600 is: 1.0879132747650146\n",
      "loss at iteration 700 is: 0.9878661036491394\n",
      "loss at iteration 800 is: 0.8516339659690857\n",
      "loss at iteration 900 is: 0.8136354684829712\n",
      "loss at iteration 1000 is: 0.765991747379303\n",
      "loss at iteration 1100 is: 0.7787178158760071\n",
      "loss at iteration 1200 is: 0.7233442664146423\n",
      "loss at iteration 1300 is: 0.7477877140045166\n",
      "loss at iteration 1400 is: 0.6554996371269226\n",
      "loss at iteration 1500 is: 0.7936630845069885\n",
      "loss at iteration 1600 is: 0.5729916095733643\n",
      "loss at iteration 1700 is: 0.7638705968856812\n",
      "loss at iteration 1800 is: 0.6056573987007141\n",
      "loss at iteration 1900 is: 0.6753626465797424\n",
      "loss at iteration 2000 is: 0.5283988118171692\n",
      "loss at iteration 2100 is: 0.572670578956604\n",
      "loss at iteration 2200 is: 0.5572274923324585\n",
      "loss at iteration 2300 is: 0.5585027933120728\n",
      "loss at iteration 2400 is: 0.6379918456077576\n",
      "loss at iteration 2500 is: 0.5345603823661804\n",
      "loss at iteration 2600 is: 0.5651025176048279\n",
      "loss at iteration 2700 is: 0.59050053358078\n",
      "loss at iteration 2800 is: 0.4744534492492676\n",
      "loss at iteration 2900 is: 0.5340630412101746\n",
      "loss at iteration 3000 is: 0.506860613822937\n",
      "loss at iteration 3100 is: 0.5060449838638306\n",
      "loss at iteration 3200 is: 0.47911253571510315\n",
      "loss at iteration 3300 is: 0.4577455520629883\n",
      "loss at iteration 3400 is: 0.46636998653411865\n",
      "loss at iteration 3500 is: 0.7232273817062378\n",
      "loss at iteration 3600 is: 0.46308088302612305\n",
      "loss at iteration 3700 is: 0.5708226561546326\n",
      "loss at iteration 3800 is: 0.5426385402679443\n",
      "loss at iteration 3900 is: 0.5568891167640686\n",
      "loss at iteration 4000 is: 0.48023030161857605\n",
      "loss at iteration 4100 is: 0.42615631222724915\n",
      "loss at iteration 4200 is: 0.40758204460144043\n",
      "loss at iteration 4300 is: 0.5724437236785889\n",
      "loss at iteration 4400 is: 0.5723692774772644\n",
      "loss at iteration 4500 is: 0.4190196692943573\n",
      "loss at iteration 4600 is: 0.4811611771583557\n",
      "loss at iteration 4700 is: 0.4597473740577698\n",
      "loss at iteration 4800 is: 0.3960358202457428\n",
      "loss at iteration 4900 is: 0.4573938548564911\n",
      "loss at iteration 5000 is: 0.420884370803833\n",
      "loss at iteration 5100 is: 0.44251856207847595\n",
      "loss at iteration 5200 is: 0.3963170051574707\n",
      "loss at iteration 5300 is: 0.4159534275531769\n",
      "loss at iteration 5400 is: 0.4279802441596985\n",
      "loss at iteration 5500 is: 0.39561891555786133\n",
      "loss at iteration 5600 is: 0.4510888159275055\n",
      "loss at iteration 5700 is: 0.4592222571372986\n",
      "loss at iteration 5800 is: 0.41376540064811707\n",
      "loss at iteration 5900 is: 0.5067070722579956\n"
     ]
    }
   ],
   "source": [
    "# initialize model and training it\n",
    "model_1 = build_model()\n",
    "# Taking a learning rate of 0.001, just like in the course \n",
    "learning_rate = 10e-3\n",
    "SGD(model=model_1,x_train=x_train,y_train=y_train,learning_rate=learning_rate,epochs=1,batch_size=1)"
   ]
  },
  {
   "cell_type": "code",
   "execution_count": 27,
   "id": "a993daf8",
   "metadata": {},
   "outputs": [
    {
     "data": {
      "image/png": "[encoded data removed]",
      "text/plain": [
       "<Figure size 640x480 with 1 Axes>"
      ]
     },
     "metadata": {},
     "output_type": "display_data"
    }
   ],
   "source": [
    "x = np.arange(len(mean_list[1:]))\n",
    "plt.plot(x,mean_list[1:],marker='o',color='black',linestyle='--',alpha=0.6)\n",
    "plt.ylabel('loss mean')\n",
    "plt.xlabel('iteration * 100')\n",
    "plt.show()"
   ]
  },
  {
   "cell_type": "code",
   "execution_count": 32,
   "id": "9d9bf5cc",
   "metadata": {},
   "outputs": [
    {
     "name": "stdout",
     "output_type": "stream",
     "text": [
      "The accuracy of the model after the first algorithm is:0.8658833503723145\n"
     ]
    }
   ],
   "source": [
    "model_1.load_weights('./model1.weights.h5')\n",
    "# Predicting over all of the images\n",
    "predicted_probas = model_1(x_train)\n",
    "y_pred = np.argmax(predicted_probas, 1)\n",
    "accuracy = keras.metrics.Accuracy()\n",
    "accuracy.update_state(y_train,y_pred)\n",
    "\n",
    "# getting the accuracy\n",
    "print(f\"The accuracy of the model after the first algorithm is:{accuracy.result().numpy()}\")"
   ]
  },
  {
   "cell_type": "markdown",
   "id": "591cb46a",
   "metadata": {},
   "source": [
    "As we can see, there is improvment compared to the previous model, but we can do much better, mainly by increasing the number of iterations or batches."
   ]
  },
  {
   "cell_type": "code",
   "execution_count": 36,
   "id": "24d39aac",
   "metadata": {},
   "outputs": [],
   "source": [
    "# Stochastic gradient algorithm\n",
    "mean_list_2 = []\n",
    "def SGD(model, x_train, y_train, learning_rate,iterations,epochs=1,batch_size=1,load_model=False):\n",
    "        \n",
    "        if load_model:\n",
    "             model.load_weights('./model2.weights.h5')\n",
    "\n",
    "        try:\n",
    "\n",
    "            for iteration in range(iterations):\n",
    "\n",
    "                for epoch in range(epochs):\n",
    "                   \n",
    "                    random_index = np.random.randint(0,x_train.shape[0])   \n",
    "                    \n",
    "                    # Getting the tensors\n",
    "                    x_train_sample = tf.convert_to_tensor(x_train[random_index:random_index+batch_size])\n",
    "                    y_train_sample = tf.convert_to_tensor(y_train[random_index:random_index+batch_size])\n",
    "\n",
    "                    with tf.GradientTape() as tape:\n",
    "                        logits = model(x_train_sample,training=True)\n",
    "                        loss_value = loss(y_train_sample, logits)\n",
    "\n",
    "                    gradient = tape.gradient(loss_value,model.trainable_weights) \n",
    "                    update_weights(model,gradient,-learning_rate)\n",
    "\n",
    "                if iteration % 100 == 0:\n",
    "                    mean_list_2.append(mean_loss(model,x_train,y_train))\n",
    "                    model.save_weights('./model2.weights.h5')\n",
    "                    print(f\"loss at iteration {iteration} is: {mean_list_2[-1]}\")\n",
    "\n",
    "        except KeyboardInterrupt:\n",
    "            \n",
    "            model.save_weights('./model2.weights.h5')"
   ]
  },
  {
   "cell_type": "code",
   "execution_count": 37,
   "id": "b32bc475",
   "metadata": {},
   "outputs": [
    {
     "name": "stdout",
     "output_type": "stream",
     "text": [
      "loss at iteration 0 is: 2.3719944953918457\n",
      "loss at iteration 100 is: 2.22094464302063\n",
      "loss at iteration 200 is: 2.1091148853302\n",
      "loss at iteration 300 is: 1.9772090911865234\n",
      "loss at iteration 400 is: 1.8302221298217773\n",
      "loss at iteration 500 is: 1.6680041551589966\n",
      "loss at iteration 600 is: 1.5062644481658936\n",
      "loss at iteration 700 is: 1.3631075620651245\n",
      "loss at iteration 800 is: 1.2391390800476074\n",
      "loss at iteration 900 is: 1.1285748481750488\n",
      "loss at iteration 1000 is: 1.0269829034805298\n",
      "loss at iteration 1100 is: 0.9350135922431946\n",
      "loss at iteration 1200 is: 0.8722078204154968\n",
      "loss at iteration 1300 is: 0.8095595836639404\n",
      "loss at iteration 1400 is: 0.7437946200370789\n",
      "loss at iteration 1500 is: 0.7000132203102112\n",
      "loss at iteration 1600 is: 0.6663657426834106\n",
      "loss at iteration 1700 is: 0.6291037797927856\n",
      "loss at iteration 1800 is: 0.6022249460220337\n",
      "loss at iteration 1900 is: 0.5829768776893616\n",
      "loss at iteration 2000 is: 0.5670514106750488\n",
      "loss at iteration 2100 is: 0.5375603437423706\n",
      "loss at iteration 2200 is: 0.5297240614891052\n",
      "loss at iteration 2300 is: 0.5333812236785889\n",
      "loss at iteration 2400 is: 0.5024938583374023\n",
      "loss at iteration 2500 is: 0.5248739123344421\n",
      "loss at iteration 2600 is: 0.5002604722976685\n",
      "loss at iteration 2700 is: 0.4870748519897461\n",
      "loss at iteration 2800 is: 0.4702017307281494\n",
      "loss at iteration 2900 is: 0.4559629261493683\n",
      "loss at iteration 3000 is: 0.4422129690647125\n",
      "loss at iteration 3100 is: 0.43793654441833496\n",
      "loss at iteration 3200 is: 0.44834744930267334\n",
      "loss at iteration 3300 is: 0.4319705069065094\n",
      "loss at iteration 3400 is: 0.42030656337738037\n",
      "loss at iteration 3500 is: 0.4169030785560608\n",
      "loss at iteration 3600 is: 0.4117463231086731\n",
      "loss at iteration 3700 is: 0.40614691376686096\n",
      "loss at iteration 3800 is: 0.4012141525745392\n",
      "loss at iteration 3900 is: 0.40904292464256287\n",
      "loss at iteration 4000 is: 0.4023772180080414\n",
      "loss at iteration 4100 is: 0.4011106789112091\n",
      "loss at iteration 4200 is: 0.3876457214355469\n",
      "loss at iteration 4300 is: 0.38507896661758423\n",
      "loss at iteration 4400 is: 0.3818277418613434\n",
      "loss at iteration 4500 is: 0.38101595640182495\n",
      "loss at iteration 4600 is: 0.37321457266807556\n",
      "loss at iteration 4700 is: 0.3651680648326874\n",
      "loss at iteration 4800 is: 0.3855980932712555\n",
      "loss at iteration 4900 is: 0.35955238342285156\n",
      "loss at iteration 5000 is: 0.3650480806827545\n",
      "loss at iteration 5100 is: 0.36418870091438293\n",
      "loss at iteration 5200 is: 0.35805460810661316\n",
      "loss at iteration 5300 is: 0.3531278669834137\n",
      "loss at iteration 5400 is: 0.36081019043922424\n",
      "loss at iteration 5500 is: 0.35857710242271423\n",
      "loss at iteration 5600 is: 0.35450756549835205\n",
      "loss at iteration 5700 is: 0.35426193475723267\n",
      "loss at iteration 5800 is: 0.3613383173942566\n",
      "loss at iteration 5900 is: 0.34138500690460205\n"
     ]
    }
   ],
   "source": [
    "# initialize model\n",
    "model_2 = build_model()\n",
    "learning_rate = 0.001\n",
    "# Staring the algorithm\n",
    "SGD(model=model_2,x_train=x_train,y_train=y_train,learning_rate=learning_rate,epochs=5,iterations=6000)"
   ]
  },
  {
   "cell_type": "code",
   "execution_count": 39,
   "id": "394e4a9d",
   "metadata": {},
   "outputs": [
    {
     "data": {
      "image/png": "[encoded data removed]",
      "text/plain": [
       "<Figure size 640x480 with 1 Axes>"
      ]
     },
     "metadata": {},
     "output_type": "display_data"
    }
   ],
   "source": [
    "x = np.arange(len(mean_list_2[1:]))\n",
    "# plotting the results \n",
    "plt.plot(x,mean_list_2[1:],marker='o',color='black',linestyle='--',alpha=0.6)\n",
    "plt.ylabel('loss mean')\n",
    "plt.xlabel('iteration * 100')\n",
    "plt.show()"
   ]
  },
  {
   "cell_type": "code",
   "execution_count": 42,
   "id": "ef20f174",
   "metadata": {},
   "outputs": [
    {
     "name": "stdout",
     "output_type": "stream",
     "text": [
      "The accuracy of the model after the second algorithm is: 0.9033666849136353\n"
     ]
    }
   ],
   "source": [
    "# predicting the outcome\n",
    "predicted_probas = model_2(x_train)\n",
    "y_pred = np.argmax(predicted_probas, 1)\n",
    "# Getting the accuracy of the model with this version of SGD\n",
    "accuracy = keras.metrics.Accuracy()\n",
    "accuracy.update_state(y_pred,y_train)\n",
    "\n",
    "print(f\"The accuracy of the model after the second algorithm is: {accuracy.result().numpy()}\")"
   ]
  },
  {
   "cell_type": "markdown",
   "id": "e1fcc550",
   "metadata": {},
   "source": [
    "We will now work on batches, i.e we will calcuate the mean gradient of some batches of size $B$. Down below is the code wich computes this alogirthm."
   ]
  },
  {
   "cell_type": "code",
   "execution_count": 69,
   "id": "8f5cb606",
   "metadata": {},
   "outputs": [],
   "source": [
    "# Stochastic gradient algorithm\n",
    "mean_list_3 = []\n",
    "def SGD(model, x_train, y_train, learning_rate,epochs=1,batch_size=1,load_saves=False):\n",
    "\n",
    "    if load_saves:\n",
    "        model.load_weights('./model3.weights.h5')\n",
    "\n",
    "    try :       \n",
    "        for epoch in range(epochs * x_train.shape[0] // batch_size):\n",
    "\n",
    "            random_indexes = np.random.randint(0,x_train.shape[0],size=(batch_size,))   \n",
    "            \n",
    "            # Converting to tensor for faster compuatation\n",
    "            x_train = tf.convert_to_tensor(x_train)\n",
    "            y_train = tf.convert_to_tensor(y_train) \n",
    "\n",
    "            # Gathering the samples\n",
    "            x_train_sample = tf.gather(x_train,random_indexes)\n",
    "            y_train_sample = tf.gather(y_train,random_indexes)\n",
    "\n",
    "            with tf.GradientTape() as tape:\n",
    "                logits = model(x_train_sample,training=True)\n",
    "                # Computing the mean of the gradient\n",
    "                loss_value = tf.reduce_mean(loss(y_train_sample, logits))\n",
    "\n",
    "            # Getting the gradient\n",
    "            gradient = tape.gradient(loss_value,model.trainable_weights)\n",
    "            update_weights(model,gradient,-learning_rate)\n",
    "\n",
    "            if epoch % 100 == 0:\n",
    "                model.save_weights('./model3.weights.h5')\n",
    "                mean_list_3.append(mean_loss(model,x_train,y_train))\n",
    "                print(f\"loss at iteration {epoch} is: {mean_list_3[-1]}\")\n",
    "    \n",
    "    except KeyboardInterrupt:\n",
    "        \n",
    "        model.save_weights('./model3.weights.h5')"
   ]
  },
  {
   "cell_type": "code",
   "execution_count": 70,
   "id": "83064728",
   "metadata": {},
   "outputs": [
    {
     "name": "stdout",
     "output_type": "stream",
     "text": [
      "loss at iteration 0 is: 2.3606631755828857\n",
      "loss at iteration 100 is: 2.3185503482818604\n",
      "loss at iteration 200 is: 2.285102128982544\n",
      "loss at iteration 300 is: 2.256899118423462\n",
      "loss at iteration 400 is: 2.2321763038635254\n",
      "loss at iteration 500 is: 2.2080821990966797\n",
      "loss at iteration 600 is: 2.184734582901001\n",
      "loss at iteration 700 is: 2.161475896835327\n",
      "loss at iteration 800 is: 2.1381306648254395\n",
      "loss at iteration 900 is: 2.1138932704925537\n",
      "loss at iteration 1000 is: 2.0887393951416016\n",
      "loss at iteration 1100 is: 2.063267230987549\n",
      "loss at iteration 1200 is: 2.036628484725952\n",
      "loss at iteration 1300 is: 2.008391857147217\n",
      "loss at iteration 1400 is: 1.9798266887664795\n",
      "loss at iteration 1500 is: 1.950136423110962\n",
      "loss at iteration 1600 is: 1.9193845987319946\n",
      "loss at iteration 1700 is: 1.8880789279937744\n",
      "loss at iteration 1800 is: 1.855967402458191\n",
      "loss at iteration 1900 is: 1.8228310346603394\n",
      "loss at iteration 2000 is: 1.789271593093872\n",
      "loss at iteration 2100 is: 1.7554289102554321\n",
      "loss at iteration 2200 is: 1.72113835811615\n",
      "loss at iteration 2300 is: 1.6865417957305908\n",
      "loss at iteration 2400 is: 1.6512351036071777\n",
      "loss at iteration 2500 is: 1.61526620388031\n",
      "loss at iteration 2600 is: 1.579283595085144\n",
      "loss at iteration 2700 is: 1.5433642864227295\n",
      "loss at iteration 2800 is: 1.507215142250061\n",
      "loss at iteration 2900 is: 1.4707839488983154\n",
      "loss at iteration 3000 is: 1.4343135356903076\n",
      "loss at iteration 3100 is: 1.3978142738342285\n",
      "loss at iteration 3200 is: 1.3620550632476807\n",
      "loss at iteration 3300 is: 1.3265929222106934\n",
      "loss at iteration 3400 is: 1.2913845777511597\n",
      "loss at iteration 3500 is: 1.2576500177383423\n",
      "loss at iteration 3600 is: 1.2247587442398071\n",
      "loss at iteration 3700 is: 1.1923116445541382\n",
      "loss at iteration 3800 is: 1.1609697341918945\n",
      "loss at iteration 3900 is: 1.1314352750778198\n",
      "loss at iteration 4000 is: 1.1026122570037842\n",
      "loss at iteration 4100 is: 1.0746142864227295\n",
      "loss at iteration 4200 is: 1.0478934049606323\n",
      "loss at iteration 4300 is: 1.0226621627807617\n",
      "loss at iteration 4400 is: 0.9986932277679443\n",
      "loss at iteration 4500 is: 0.9754168391227722\n",
      "loss at iteration 4600 is: 0.9534590244293213\n",
      "loss at iteration 4700 is: 0.932770311832428\n",
      "loss at iteration 4800 is: 0.9129080772399902\n",
      "loss at iteration 4900 is: 0.8944206833839417\n",
      "loss at iteration 5000 is: 0.8764162063598633\n",
      "loss at iteration 5100 is: 0.8590651154518127\n",
      "loss at iteration 5200 is: 0.8427574634552002\n",
      "loss at iteration 5300 is: 0.8275084495544434\n",
      "loss at iteration 5400 is: 0.8127761483192444\n",
      "loss at iteration 5500 is: 0.798835039138794\n",
      "loss at iteration 5600 is: 0.785346269607544\n",
      "loss at iteration 5700 is: 0.7724343538284302\n",
      "loss at iteration 5800 is: 0.7602087259292603\n",
      "loss at iteration 5900 is: 0.7485554814338684\n"
     ]
    }
   ],
   "source": [
    "# initialize model\n",
    "model_3 = build_model()\n",
    "learning_rate = 0.001\n",
    "# Here, we chose a batch size of 50, because why not\n",
    "SGD(model=model_3,x_train=x_train,y_train=y_train,learning_rate=learning_rate,epochs=10,batch_size=100)"
   ]
  },
  {
   "cell_type": "code",
   "execution_count": 71,
   "id": "e20d2125",
   "metadata": {},
   "outputs": [
    {
     "data": {
      "image/png": "[encoded data removed]",
      "text/plain": [
       "<Figure size 640x480 with 1 Axes>"
      ]
     },
     "metadata": {},
     "output_type": "display_data"
    }
   ],
   "source": [
    "x = np.arange(len(mean_list_3[1:]))\n",
    "# Plotting the results\n",
    "plt.plot(x,mean_list_3[1:],marker='o',color='black',linestyle='--',alpha=0.6)\n",
    "plt.ylabel('loss mean')\n",
    "plt.xlabel('iteration * 100')\n",
    "plt.show()"
   ]
  },
  {
   "cell_type": "code",
   "execution_count": 72,
   "id": "ea405afa",
   "metadata": {},
   "outputs": [
    {
     "name": "stdout",
     "output_type": "stream",
     "text": [
      "The accuracy of the model after the third algorithm is: 0.8157833218574524\n"
     ]
    }
   ],
   "source": [
    "# Computing the accuracy\n",
    "predicted_probas = model_3(x_train)\n",
    "y_pred = np.argmax(predicted_probas, 1)\n",
    "accuracy = keras.metrics.Accuracy()\n",
    "accuracy.update_state(y_pred,y_train)\n",
    "\n",
    "print(f\"The accuracy of the model after the third algorithm is: {accuracy.result().numpy()}\")"
   ]
  },
  {
   "cell_type": "code",
   "execution_count": 75,
   "id": "c7401fad",
   "metadata": {},
   "outputs": [
    {
     "name": "stdout",
     "output_type": "stream",
     "text": [
      "The accuracy of the model after the first algorithm is: 0.8658833503723145\n",
      "The accuracy of the model after the second algorithm is: 0.9017333388328552\n",
      "The accuracy of the model after the third algorithm is: 0.8130000233650208\n"
     ]
    }
   ],
   "source": [
    "# Here we shall compare the model's accuracy according to the algorithm used\n",
    "model = build_model()\n",
    "model.load_weights('./model1.weights.h5')\n",
    "\n",
    "predicted_probas = model(x_train)\n",
    "y_pred = np.argmax(predicted_probas, 1)\n",
    "accuracy = keras.metrics.Accuracy()\n",
    "accuracy.update_state(y_pred,y_train)\n",
    "\n",
    "print(f\"The accuracy of the model after the first algorithm is: {accuracy.result().numpy()}\")\n",
    "\n",
    "model.load_weights('./model2.weights.h5')\n",
    "predicted_probas = model(x_train)\n",
    "y_pred = np.argmax(predicted_probas, 1)\n",
    "accuracy = keras.metrics.Accuracy()\n",
    "accuracy.update_state(y_pred,y_train)\n",
    "\n",
    "print(f\"The accuracy of the model after the second algorithm is: {accuracy.result().numpy()}\")\n",
    "\n",
    "model.load_weights('./model3.weights.h5')\n",
    "predicted_probas = model(x_train)\n",
    "y_pred = np.argmax(predicted_probas, 1)\n",
    "accuracy = keras.metrics.Accuracy()\n",
    "accuracy.update_state(y_pred,y_train)\n",
    "\n",
    "print(f\"The accuracy of the model after the third algorithm is: {accuracy.result().numpy()}\")"
   ]
  },
  {
   "cell_type": "markdown",
   "id": "edbd283d",
   "metadata": {},
   "source": [
    "The second algorithm seems to have more precision, which makes sense since it iterates more times than the other two algorithms."
   ]
  }
 ],
 "metadata": {
  "kernelspec": {
   "display_name": "Python 3",
   "language": "python",
   "name": "python3"
  },
  "language_info": {
   "codemirror_mode": {
    "name": "ipython",
    "version": 3
   },
   "file_extension": ".py",
   "mimetype": "text/x-python",
   "name": "python",
   "nbconvert_exporter": "python",
   "pygments_lexer": "ipython3",
   "version": "3.11.2"
  }
 },
 "nbformat": 4,
 "nbformat_minor": 5
}
