{
 "cells": [
  {
   "cell_type": "markdown",
   "metadata": {},
   "source": [
    "## <ins> First Practice Session: KHOUTAIBI Iliass / Madani Alaoui Yassine </ins>\n",
    "The goal of this first practical work is to experiment the estimation of second order moments for\n",
    "random processes, and to simply compare them with their theoretical version. \n",
    "\n",
    "Let consider the following real processes:\n",
    "-  White Noise (denoted $\\text{WN}$) $Z_t$ with variance $\\sigma^2$ (use `np.random.normal`)\n",
    "-  $X_t=a+bZ_t+Z_{t-1}$ where $Z_t \\sim \\text{WN}\\left(0,\\sigma^2\\right)$\n",
    "- $X_t = \\sum_{k=0}^{K}2^{-k}Z_{t-k} + a$ (with $K$ \"big enough\")\n",
    "- Harmonic Process: $X_t=A_0\\cos(\\lambda_0t+\\Phi_0)+Z_t$ where $\\lambda \\in [0,\\pi[,$ $\\Phi_0 \\sim \\mathcal{U}([0,2\\pi])$ (*e.g.* `np.random.uniform`)\n",
    "\n",
    "For each of them:\n",
    "1. Compute the theoretical mean and autocovariance of the previous mentioned real processes using the formulas $\\mathbb{E}(X_n)$ and $\\mathrm{Cov}(X_{n},X_{n+h})$\n",
    "2. Compute their empirical mean and empirical autocovariance function using course's formulas in python.\n",
    "3. Plot the theoretical operator and empirical estimators for various sampling many times and comment.\n",
    "4. For a given number $ T \\in \\{10, 100, 500, 1000\\}$ of samples $X_1, \\dots, X_T$:\n",
    "  - for a given draw, compute the mean squared error (MSE) $\\frac{1}{T}\\sum_t (\\gamma_{t} - \\hat{\\gamma_{t}})^2$ between the theoretical and the empirical autocovariance function denoted $\\gamma$ and $\\hat{\\gamma}$ respectively.\n",
    "  - Repeat the previous step $100$ times and saves all the results.\n",
    "  - compute the boxplot of the MSE for each $T$ and comment.\n"
   ]
  },
  {
   "cell_type": "markdown",
   "metadata": {},
   "source": [
    "### <ins>Solution :</ins>"
   ]
  },
  {
   "cell_type": "markdown",
   "metadata": {},
   "source": [
    "1. Compute the theoretical mean and autocovariance of the previous mentioned real processes using the formulas $\\mathbb{E}(X_n)$ and $\\mathrm{Cov}(X_{n},X_{n+h})$.\n",
    "    - For the random variable White Noise (denoted $\\text{WN}$) $Z_t$ with variance $\\sigma^2$ :\n",
    "\n",
    "    We find that $\\forall n \\in \\mathbf{N}$ :  \n",
    "    $\\qquad$ $\\mathbb{E}(X_{n})  = 0$  \n",
    "    And $\\forall h \\in \\mathbf{N}$ :  \n",
    "    $\\qquad$ $\\mathrm{Cov}(X_{n},X_{n+h})$ = $\\sigma^{2}\\cdot\\mathbb{1}_{h=0}$ \n",
    "\n",
    "    - For the random variable defined as : $X_t=a+bZ_t+Z_{t-1}$ where $Z_t \\sim \\text{WN}\\left(0,\\sigma^2\\right)$, we find :\n",
    "    $\\qquad$  "
   ]
  },
  {
   "cell_type": "markdown",
   "metadata": {},
   "source": []
  }
 ],
 "metadata": {
  "kernelspec": {
   "display_name": "base",
   "language": "python",
   "name": "base"
  },
  "language_info": {
   "codemirror_mode": {
    "name": "ipython",
    "version": 3
   },
   "file_extension": ".py",
   "mimetype": "text/x-python",
   "name": "python",
   "nbconvert_exporter": "python",
   "pygments_lexer": "ipython3",
   "version": "3.9.7"
  },
  "orig_nbformat": 4
 },
 "nbformat": 4,
 "nbformat_minor": 2
}
